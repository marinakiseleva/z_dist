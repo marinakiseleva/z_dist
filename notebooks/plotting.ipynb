{
 "cells": [
  {
   "cell_type": "code",
   "execution_count": null,
   "metadata": {},
   "outputs": [],
   "source": [
    "from mainmodel.helper_compute import *\n",
    "import matplotlib.pyplot as plt\n",
    "from matplotlib import rc\n",
    "import matplotlib as mpl\n",
    "\n",
    "rc('text', usetex=True)\n",
    "mpl.rcParams['font.serif'] = ['times', 'times new roman']\n",
    "mpl.rcParams['font.family'] = 'serif'\n",
    "    \n",
    "fig, ax = plt.subplots(figsize=(4, 1),\n",
    "                       nrows=1, ncols=2,\n",
    "                       dpi=150,\n",
    "                       sharex=True,\n",
    "                       sharey=True )\n",
    "test_indices = [0,1]\n",
    "test_vals = []\n",
    "bar_width = 0.05\n",
    "thex_y_points = [0.2, 0.3]\n",
    "lsst_y_points = [0.25, 0.35]\n",
    "\n",
    "ax[0].barh(y=thex_y_points,\n",
    "           height=bar_width,\n",
    "        width=[0.8,0.5], \n",
    "        color=\"black\",\n",
    "        label=\"thex\")\n",
    "\n",
    "ax[0].barh(y=lsst_y_points,\n",
    "           height=bar_width,\n",
    "        width=[0.2,0.5], \n",
    "        color=\"red\",\n",
    "        label=\"lsst\")\n",
    "\n",
    "\n",
    "ax[1].barh(y=thex_y_points,\n",
    "           height=bar_width,\n",
    "        width=[0.8,0.5], \n",
    "        color=\"black\",\n",
    "        label=\"thex long\\n long name\")\n",
    "\n",
    "ax[1].barh(y=lsst_y_points,\n",
    "           height=bar_width,\n",
    "        width=[0.2,0.5], \n",
    "        color=\"red\",\n",
    "        label=\"lsst pretty \\nlong name\")\n",
    "\n",
    "ax[1].legend(fontsize=14, bbox_to_anchor=(1.1, 1.2),\n",
    "                 labelspacing=.2, handlelength=1) \n",
    "\n",
    "yticks = [0.25, 0.35]\n",
    "ax[0].set_yticks(np.array(yticks))\n",
    "new_labels = [\"Ia (unspec.)\", \"II (unspec.)\"]\n",
    "ax[0].set_yticklabels(new_labels,  fontsize=16, horizontalalignment='right')\n",
    "plt.gca().invert_yaxis()\n",
    "plt.subplots_adjust(wspace=0, hspace=0)\n",
    "\n",
    "import numpy as np\n",
    "indices = np.linspace(0, 1, 6)\n",
    "ticks = [str(int(i)) for i in indices * 100]\n",
    "plt.sca(ax[0])\n",
    "plt.xticks(indices,['0', '20', '40', '60', '80', ''], fontsize=16)\n",
    "\n",
    "plt.sca(ax[1])\n",
    "ax[1].set_xticklabels(['0', '20', '40', '60', '80', ''], fontsize=16)\n",
    "\n",
    "plt.savefig(\"../figures/testing/testimg.pdf\", bbox_inches='tight')\n",
    "plt.show()"
   ]
  },
  {
   "cell_type": "code",
   "execution_count": null,
   "metadata": {},
   "outputs": [],
   "source": []
  },
  {
   "cell_type": "code",
   "execution_count": null,
   "metadata": {},
   "outputs": [],
   "source": [
    "import pickle\n",
    "from models.multi_model.multi_model import MultiModel\n",
    "\n",
    "model = pickle.load( open('../data/full_model_data.pickle', 'rb')  )\n",
    "# with open('../data/full_model_data.pickle', 'rb') as handle:\n",
    "#     model = pickle.load(handle, protocol=pickle.HIGHEST_PROTOCOL)"
   ]
  },
  {
   "cell_type": "code",
   "execution_count": null,
   "metadata": {},
   "outputs": [],
   "source": []
  },
  {
   "cell_type": "code",
   "execution_count": null,
   "metadata": {},
   "outputs": [],
   "source": [
    "import pickle\n",
    "def load_prev_exp(pickle_dir, model):\n",
    "    with open(pickle_dir + 'results.pickle', 'rb') as handle:\n",
    "        results = pickle.load(handle)\n",
    "    model.results = results\n",
    "    with open(pickle_dir + 'y.pickle', 'rb') as handle:\n",
    "        y = pickle.load(handle)\n",
    "    model.y = y\n",
    "    return model"
   ]
  },
  {
   "cell_type": "code",
   "execution_count": null,
   "metadata": {},
   "outputs": [],
   "source": [
    "from models.multi_model.multi_model import MultiModel\n",
    "\n",
    "cols = [\"g_mag\", \"r_mag\", \"i_mag\", \"z_mag\", \"y_mag\",\n",
    "            \"W1_mag\", \"W2_mag\", \"H_mag\", \"K_mag\", 'J_mag',\n",
    "            'redshift']\n",
    "\n",
    "\n",
    "CUR_DATA_PATH = \"/Users/marina/Documents/PhD/research/astro_research/data/catalogs/v7/THEx-assembled-v7.1a-mags-legacy-xcalib-minxcal.fits\"\n",
    "exp_dir=\"/Users/marina/Documents/PhD/research/astro_research/code/dist_code/figures/testing/16_04_2021__08_29_50/\"\n",
    "\n",
    "\n",
    "model = MultiModel(cols=cols,\n",
    "                   class_labels=['Unspecified Ia', 'Unspecified II'],\n",
    "                   transform_features=False,\n",
    "                   min_class_size=40, \n",
    "                   data_file=CUR_DATA_PATH\n",
    "                   )\n",
    "\n",
    "\n",
    "load_prev_exp(exp_dir+\"lsst_test/\", model)"
   ]
  },
  {
   "cell_type": "code",
   "execution_count": null,
   "metadata": {},
   "outputs": [],
   "source": [
    "omodel = MultiModel(cols=cols,\n",
    "                   class_labels=['Unspecified Ia', 'Unspecified II'],\n",
    "                   transform_features=False,\n",
    "                   min_class_size=40, \n",
    "                   data_file=CUR_DATA_PATH\n",
    "                   )\n",
    "load_prev_exp(exp_dir+\"orig_test/\", omodel)"
   ]
  },
  {
   "cell_type": "code",
   "execution_count": null,
   "metadata": {},
   "outputs": [],
   "source": [
    "from evaluation.sampling_test import *\n",
    "from evaluation.plotting import *\n",
    "import pandas as pd\n",
    "thex_dataset = pd.concat([model.X, model.y], axis=1)\n",
    "X_lsst, y_lsst, X_orig, y_orig = get_test_sets(thex_dataset, exp_dir, \"1\")"
   ]
  },
  {
   "cell_type": "code",
   "execution_count": null,
   "metadata": {},
   "outputs": [],
   "source": [
    "thex_dataset"
   ]
  },
  {
   "cell_type": "code",
   "execution_count": null,
   "metadata": {},
   "outputs": [],
   "source": []
  },
  {
   "cell_type": "code",
   "execution_count": null,
   "metadata": {},
   "outputs": [],
   "source": []
  },
  {
   "cell_type": "code",
   "execution_count": null,
   "metadata": {},
   "outputs": [],
   "source": [
    "\n",
    "plot_performance_together(model, y_lsst, LSST_results, orig_results, exp_dir)"
   ]
  },
  {
   "cell_type": "code",
   "execution_count": null,
   "metadata": {},
   "outputs": [],
   "source": []
  }
 ],
 "metadata": {
  "kernelspec": {
   "display_name": "zdist",
   "language": "python",
   "name": "zdist"
  },
  "language_info": {
   "codemirror_mode": {
    "name": "ipython",
    "version": 3
   },
   "file_extension": ".py",
   "mimetype": "text/x-python",
   "name": "python",
   "nbconvert_exporter": "python",
   "pygments_lexer": "ipython3",
   "version": "3.8.7"
  }
 },
 "nbformat": 4,
 "nbformat_minor": 4
}
