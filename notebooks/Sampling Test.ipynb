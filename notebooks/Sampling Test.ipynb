{
 "cells": [
  {
   "cell_type": "code",
   "execution_count": 1,
   "metadata": {},
   "outputs": [],
   "source": [
    "import os\n",
    "import numpy as np\n",
    "import pandas as pd\n",
    "import matplotlib\n",
    "matplotlib.use('Agg')\n",
    "import matplotlib.pyplot as plt\n",
    "from matplotlib import rc\n",
    "from datetime import datetime\n",
    "\n",
    "from thex_data.data_consts import *\n",
    "from models.multi_model.multi_model import MultiModel\n",
    "\n",
    "from evaluation.plotting import *\n",
    "from estimate.get_data import *\n",
    "\n"
   ]
  },
  {
   "cell_type": "code",
   "execution_count": 2,
   "metadata": {},
   "outputs": [
    {
     "name": "stdout",
     "output_type": "stream",
     "text": [
      "Saving Multiclass Classifier output to directory /Users/marina/Documents/PhD/research/astro_research/code/environments/dist_env/lib/python3.8/site-packages/thex_data/../output/Multiclass_Classifier21\n",
      "\n",
      "\n",
      "Constructing Class Hierarchy Tree...\n",
      "Using data: /Users/marina/Documents/PhD/research/astro_research/code/dist_code/estimate/../../../data/catalogs/v8/THEx-v8.0-release.mags-xcalib.min-xcal.fits\n",
      "\n",
      "Classes:\n",
      "['Unspecified Ia', 'II']\n",
      "\n",
      "Features:\n",
      "['g_mag', 'r_mag', 'i_mag', 'z_mag', 'y_mag', 'W1_mag', 'W2_mag', 'H_mag', 'K_mag', 'J_mag', 'event_z']\n",
      "\n",
      "\n",
      "\t\tClass Counts\n",
      "Unspecified Ia : 7104\n",
      "II : 2312\n"
     ]
    }
   ],
   "source": [
    "cols = [\"g_mag\", \"r_mag\", \"i_mag\", \"z_mag\", \"y_mag\",\n",
    "        \"W1_mag\", \"W2_mag\", \"H_mag\", \"K_mag\", 'J_mag',\n",
    "        Z_FEAT]\n",
    "\n",
    "codes = [\"A1\", \"F1\", \"B1\", \"G1\"]\n",
    "model = MultiModel(cols=cols,\n",
    "                   class_labels=['Unspecified Ia', 'II'],\n",
    "                   transform_features=False,\n",
    "                   case_code=codes,\n",
    "                   min_class_size=40,\n",
    "                   data_file=CUR_DATA_PATH,\n",
    "                   )"
   ]
  },
  {
   "cell_type": "code",
   "execution_count": 3,
   "metadata": {},
   "outputs": [],
   "source": [
    "model.num_runs = 2 \n",
    "thex_dataset = pd.concat([model.X, model.y], axis=1)"
   ]
  },
  {
   "cell_type": "code",
   "execution_count": 8,
   "metadata": {},
   "outputs": [],
   "source": [
    "from evaluation.sampling_test import *"
   ]
  },
  {
   "cell_type": "code",
   "execution_count": 7,
   "metadata": {},
   "outputs": [],
   "source": [
    "now = datetime.now()\n",
    "dt_string = now.strftime(\"%d_%m_%Y__%H_%M_%S\") \n",
    "output_dir = \"../output/\" + dt_string\n",
    "os.mkdir(output_dir)"
   ]
  },
  {
   "cell_type": "code",
   "execution_count": 9,
   "metadata": {},
   "outputs": [
    {
     "name": "stdout",
     "output_type": "stream",
     "text": [
      "\n",
      "\n",
      "Iteration 1/2\n",
      "\n",
      "Sampling Class: Unspecified Ia\n",
      "\n",
      "Sampling Class: II\n",
      "\n",
      "Training set size: 8932\n",
      "Ia test count, LSST: 111, THEx: 111\n",
      "II test count, LSST: 116, THEx: 83\n",
      "\n",
      "\n",
      "Training Multivariate KDE per class\n",
      "\n",
      "Training KDE for Unspecified Ia\n",
      "bandwidth 0.04091224489795919\n",
      "average log-likelihood: -4179.320927668121\n",
      "\n",
      "Training KDE for II\n",
      "bandwidth 0.06131836734693878\n",
      "average log-likelihood: -3129.3888649070723\n",
      "Brier score multiclass (loss): 0.09269844241406233\n",
      "\n",
      "\n",
      "\n",
      "Iteration 2/2\n",
      "\n",
      "Sampling Class: Unspecified Ia\n",
      "\n",
      "Sampling Class: II\n",
      "\n",
      "Training set size: 8940\n",
      "Ia test count, LSST: 111, THEx: 111\n",
      "II test count, LSST: 121, THEx: 88\n",
      "\n",
      "\n",
      "Training Multivariate KDE per class\n",
      "\n",
      "Training KDE for Unspecified Ia\n",
      "bandwidth 0.04091224489795919\n",
      "average log-likelihood: -4557.228856853799\n",
      "\n",
      "Training KDE for II\n",
      "bandwidth 0.06131836734693878\n",
      "average log-likelihood: -2982.9895668308927\n",
      "Brier score multiclass (loss): 0.1044923834019242\n",
      "\n"
     ]
    }
   ],
   "source": [
    "\n",
    "LSST_results = []\n",
    "orig_results = []\n",
    "\n",
    "for i in range(model.num_runs):\n",
    "    print(\"\\n\\nIteration \" + str(i + 1) + \"/\" + str(model.num_runs))\n",
    "    # Resample testing sets each run\n",
    "    X_lsst, y_lsst, X_orig, y_orig = get_test_sets(\n",
    "        thex_dataset, output_dir, i)\n",
    "\n",
    "    # Update training data to remove testing sets\n",
    "    X_train, y_train = get_training_data(X_lsst, X_orig, model.X, model.y)\n",
    "\n",
    "    # Ensure all X sets have columns in same order\n",
    "    X_lsst = X_lsst[ordered_mags]\n",
    "    X_orig = X_orig[ordered_mags]\n",
    "    X_train = X_train[ordered_mags]\n",
    "\n",
    "    print(\"\\nTraining set size: \" + str(X_train.shape[0]))\n",
    "    print(\"Ia test count, LSST: \" + str(get_cc(y_lsst, \"Unspecified Ia\")) +\n",
    "          \", THEx: \" + str(get_cc(y_orig, \"Unspecified Ia\")))\n",
    "    print(\"II test count, LSST: \" + str(get_cc(y_lsst, \"Unspecified II\"))\n",
    "          + \", THEx: \" + str(get_cc(y_orig, \"Unspecified II\")))\n",
    "\n",
    "    # Train model on sampled set\n",
    "    model.train_model(X_train, y_train)\n",
    "\n",
    "    # Test model on LSST\n",
    "    LSST_results.append(get_test_performance(X_lsst, y_lsst, model))\n",
    "\n",
    "    # Test model on orig sample\n",
    "    orig_results.append(get_test_performance(X_orig, y_orig, model))"
   ]
  },
  {
   "cell_type": "code",
   "execution_count": 13,
   "metadata": {},
   "outputs": [
    {
     "name": "stdout",
     "output_type": "stream",
     "text": [
      "{'Unspecified Ia': 111, 'II': 122}\n",
      "\n",
      "\n",
      "\t\tMulticlass Classifier Balanced Purity\n",
      "Unspecified Ia : 0.5775243273342661\n",
      "II : 0.7713157680211216\n",
      "\n",
      "\n",
      "\t\tMulticlass Classifier Purity\n",
      "Unspecified Ia : 0.5543167701863354\n",
      "II : 0.7874736101337086\n",
      "\n",
      "\n",
      "\t\tMulticlass Classifier Completeness\n",
      "Unspecified Ia : 0.8963963963963963\n",
      "II : 0.3442622950819672\n",
      "\n",
      "\n",
      "\t\tPurity confidence intervals\n",
      "Unspecified Ia : [0.554255900621118, 0.5543776397515529]\n",
      "II : [0.7309218859957776, 0.8440253342716397]\n",
      "\n",
      "\n",
      "\t\tCompleteness confidence intervals\n",
      "Unspecified Ia : [0.8522522522522521, 0.9405405405405406]\n",
      "II : [0.3121311475409836, 0.3763934426229508]\n",
      "\n",
      " Purity\n",
      "Ia (unspec.) ($55.43\\%\\pm0.01\\%$)\n",
      "II ($78.75\\%\\pm5.66\\%$)\n",
      "\n",
      "Baselines\n",
      "[0.5236051502145923, 0.47639484978540775]\n",
      "\n",
      " Completeness\n",
      "Ia (unspec.) ($89.64\\%\\pm4.41\\%$)\n",
      "II ($34.43\\%\\pm3.21\\%$)\n",
      "\n",
      "Baselines\n",
      "[0.5, 0.5]\n"
     ]
    },
    {
     "name": "stderr",
     "output_type": "stream",
     "text": [
      "/Users/marina/Documents/PhD/research/astro_research/code/environments/dist_env/lib/python3.8/site-packages/utilities/utilities.py:115: UserWarning: Matplotlib is currently using agg, which is a non-GUI backend, so cannot show the figure.\n",
      "  plt.show()\n"
     ]
    },
    {
     "name": "stdout",
     "output_type": "stream",
     "text": [
      "\n",
      "Confusion Matrix\n",
      "[[0.8964 0.1036]\n",
      " [0.6557 0.3443]]\n"
     ]
    },
    {
     "name": "stderr",
     "output_type": "stream",
     "text": [
      "/Users/marina/Documents/PhD/research/astro_research/code/environments/dist_env/lib/python3.8/site-packages/utilities/utilities.py:115: UserWarning: Matplotlib is currently using agg, which is a non-GUI backend, so cannot show the figure.\n",
      "  plt.show()\n",
      "/Users/marina/Documents/PhD/research/astro_research/code/environments/dist_env/lib/python3.8/site-packages/utilities/utilities.py:115: UserWarning: Matplotlib is currently using agg, which is a non-GUI backend, so cannot show the figure.\n",
      "  plt.show()\n",
      "/Users/marina/Documents/PhD/research/astro_research/code/environments/dist_env/lib/python3.8/site-packages/utilities/utilities.py:115: UserWarning: Matplotlib is currently using agg, which is a non-GUI backend, so cannot show the figure.\n",
      "  plt.show()\n"
     ]
    },
    {
     "name": "stdout",
     "output_type": "stream",
     "text": [
      "\n",
      "Probability vs Class Rates for: Ia (unspec.)\n",
      "[0.2027 0.1667 0.3571 0.2143 0.5912]\n"
     ]
    },
    {
     "name": "stderr",
     "output_type": "stream",
     "text": [
      "/Users/marina/Documents/PhD/research/astro_research/code/environments/dist_env/lib/python3.8/site-packages/utilities/utilities.py:115: UserWarning: Matplotlib is currently using agg, which is a non-GUI backend, so cannot show the figure.\n",
      "  plt.show()\n"
     ]
    },
    {
     "name": "stdout",
     "output_type": "stream",
     "text": [
      "\n",
      "Probability vs Class Rates for: II\n",
      "[0.4088 0.7857 0.6429 0.8333 0.7973]\n",
      "{'Unspecified Ia': 111, 'II': 122}\n",
      "\n",
      "\n",
      "\t\tMulticlass Classifier Balanced Purity\n",
      "Unspecified Ia : 0.6008109923045408\n",
      "II : 0.7054569101934154\n",
      "\n",
      "\n",
      "\t\tMulticlass Classifier Purity\n",
      "Unspecified Ia : 0.5780246913580247\n",
      "II : 0.7245884948243679\n",
      "\n",
      "\n",
      "\t\tMulticlass Classifier Completeness\n",
      "Unspecified Ia : 0.8108108108108107\n",
      "II : 0.45901639344262296\n",
      "\n",
      "\n",
      "\t\tPurity confidence intervals\n",
      "Unspecified Ia : [0.5218864197530864, 0.634162962962963]\n",
      "II : [0.657071101306635, 0.7921058883421008]\n",
      "\n",
      "\n",
      "\t\tCompleteness confidence intervals\n",
      "Unspecified Ia : [0.7931531531531532, 0.8284684684684683]\n",
      "II : [0.3465573770491803, 0.5714754098360656]\n",
      "\n",
      " Purity"
     ]
    },
    {
     "name": "stderr",
     "output_type": "stream",
     "text": [
      "/Users/marina/Documents/PhD/research/astro_research/code/environments/dist_env/lib/python3.8/site-packages/utilities/utilities.py:115: UserWarning: Matplotlib is currently using agg, which is a non-GUI backend, so cannot show the figure.\n",
      "  plt.show()\n",
      "/Users/marina/Documents/PhD/research/astro_research/code/environments/dist_env/lib/python3.8/site-packages/utilities/utilities.py:115: UserWarning: Matplotlib is currently using agg, which is a non-GUI backend, so cannot show the figure.\n",
      "  plt.show()\n"
     ]
    },
    {
     "name": "stdout",
     "output_type": "stream",
     "text": [
      "\n",
      "Ia (unspec.) ($57.8\\%\\pm5.61\\%$)\n",
      "II ($72.46\\%\\pm6.75\\%$)\n",
      "\n",
      "Baselines\n",
      "[0.5236051502145923, 0.47639484978540775]\n",
      "\n",
      " Completeness\n",
      "Ia (unspec.) ($81.08\\%\\pm1.77\\%$)\n",
      "II ($45.9\\%\\pm11.25\\%$)\n",
      "\n",
      "Baselines\n",
      "[0.5, 0.5]\n",
      "\n",
      "Confusion Matrix\n",
      "[[0.8108 0.1892]\n",
      " [0.541  0.459 ]]\n"
     ]
    },
    {
     "name": "stderr",
     "output_type": "stream",
     "text": [
      "/Users/marina/Documents/PhD/research/astro_research/code/environments/dist_env/lib/python3.8/site-packages/utilities/utilities.py:115: UserWarning: Matplotlib is currently using agg, which is a non-GUI backend, so cannot show the figure.\n",
      "  plt.show()\n",
      "/Users/marina/Documents/PhD/research/astro_research/code/environments/dist_env/lib/python3.8/site-packages/utilities/utilities.py:115: UserWarning: Matplotlib is currently using agg, which is a non-GUI backend, so cannot show the figure.\n",
      "  plt.show()\n",
      "/Users/marina/Documents/PhD/research/astro_research/code/environments/dist_env/lib/python3.8/site-packages/utilities/utilities.py:115: UserWarning: Matplotlib is currently using agg, which is a non-GUI backend, so cannot show the figure.\n",
      "  plt.show()\n"
     ]
    },
    {
     "name": "stdout",
     "output_type": "stream",
     "text": [
      "\n",
      "Probability vs Class Rates for: Ia (unspec.)\n",
      "[0.18   0.3939 0.3721 0.4032 0.6579]\n"
     ]
    },
    {
     "name": "stderr",
     "output_type": "stream",
     "text": [
      "/Users/marina/Documents/PhD/research/astro_research/code/environments/dist_env/lib/python3.8/site-packages/utilities/utilities.py:115: UserWarning: Matplotlib is currently using agg, which is a non-GUI backend, so cannot show the figure.\n",
      "  plt.show()\n"
     ]
    },
    {
     "name": "stdout",
     "output_type": "stream",
     "text": [
      "\n",
      "Probability vs Class Rates for: II\n",
      "[0.3421 0.5968 0.6279 0.6061 0.82  ]\n",
      "\n",
      "\n",
      "\t\tMulticlass Classifier Balanced Purity\n",
      "Unspecified Ia : 0.5775243273342661\n",
      "II : 0.7713157680211216\n",
      "\n",
      "\n",
      "\t\tMulticlass Classifier Purity\n",
      "Unspecified Ia : 0.5543167701863354\n",
      "II : 0.7874736101337086\n",
      "\n",
      "\n",
      "\t\tMulticlass Classifier Completeness\n",
      "Unspecified Ia : 0.8963963963963963\n",
      "II : 0.3442622950819672\n",
      "\n",
      "\n",
      "\t\tPurity confidence intervals\n",
      "Unspecified Ia : [0.554255900621118, 0.5543776397515529]\n",
      "II : [0.7309218859957776, 0.8440253342716397]\n",
      "\n",
      "\n",
      "\t\tCompleteness confidence intervals\n",
      "Unspecified Ia : [0.8522522522522521, 0.9405405405405406]\n",
      "II : [0.3121311475409836, 0.3763934426229508]\n",
      "\n",
      "\n",
      "\t\tMulticlass Classifier Balanced Purity\n",
      "Unspecified Ia : 0.6008109923045408\n",
      "II : 0.7054569101934154\n",
      "\n",
      "\n",
      "\t\tMulticlass Classifier Purity\n",
      "Unspecified Ia : 0.5780246913580247\n",
      "II : 0.7245884948243679\n",
      "\n",
      "\n",
      "\t\tMulticlass Classifier Completeness\n",
      "Unspecified Ia : 0.8108108108108107\n",
      "II : 0.45901639344262296\n",
      "\n",
      "\n",
      "\t\tPurity confidence intervals\n",
      "Unspecified Ia : [0.5218864197530864, 0.634162962962963]\n",
      "II : [0.657071101306635, 0.7921058883421008]\n",
      "\n",
      "\n",
      "\t\tCompleteness confidence intervals\n",
      "Unspecified Ia : [0.7931531531531532, 0.8284684684684683]\n",
      "II : [0.3465573770491803, 0.5714754098360656]\n"
     ]
    },
    {
     "name": "stderr",
     "output_type": "stream",
     "text": [
      "/Users/marina/Documents/PhD/research/astro_research/code/environments/dist_env/lib/python3.8/site-packages/utilities/utilities.py:115: UserWarning: Matplotlib is currently using agg, which is a non-GUI backend, so cannot show the figure.\n",
      "  plt.show()\n"
     ]
    },
    {
     "name": "stdout",
     "output_type": "stream",
     "text": [
      "../output/17_08_2021__17_15_44\n"
     ]
    }
   ],
   "source": [
    "plot_performance_c(model, y_lsst, output_dir + \"/lsst_test\", LSST_results)\n",
    "    # Visualize performance of randomly sampled data\n",
    "plot_performance_c(model, y_orig, output_dir + \"/orig_test\", orig_results)\n",
    "\n",
    "plot_performance_together(model, y_lsst, LSST_results, orig_results, output_dir)"
   ]
  },
  {
   "cell_type": "code",
   "execution_count": null,
   "metadata": {},
   "outputs": [],
   "source": []
  }
 ],
 "metadata": {
  "kernelspec": {
   "display_name": "zdist",
   "language": "python",
   "name": "zdist"
  },
  "language_info": {
   "codemirror_mode": {
    "name": "ipython",
    "version": 3
   },
   "file_extension": ".py",
   "mimetype": "text/x-python",
   "name": "python",
   "nbconvert_exporter": "python",
   "pygments_lexer": "ipython3",
   "version": "3.8.7"
  }
 },
 "nbformat": 4,
 "nbformat_minor": 4
}
