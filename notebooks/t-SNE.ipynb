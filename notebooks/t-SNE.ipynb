{
 "cells": [
  {
   "cell_type": "markdown",
   "metadata": {},
   "source": [
    "### Understanding answers\n",
    "Exploring the two testing sets in low dimensional space to see how they are distributed. We expect for Ia and II to be equally discernible in both testing sets, since this would explain why the performance is equal between them."
   ]
  },
  {
   "cell_type": "code",
   "execution_count": null,
   "metadata": {},
   "outputs": [],
   "source": [
    "from evaluation.lowd_test import *"
   ]
  },
  {
   "cell_type": "code",
   "execution_count": null,
   "metadata": {
    "scrolled": false
   },
   "outputs": [],
   "source": [
    "main()"
   ]
  },
  {
   "cell_type": "code",
   "execution_count": null,
   "metadata": {},
   "outputs": [],
   "source": []
  },
  {
   "cell_type": "code",
   "execution_count": null,
   "metadata": {},
   "outputs": [],
   "source": []
  },
  {
   "cell_type": "code",
   "execution_count": null,
   "metadata": {},
   "outputs": [],
   "source": [
    "from sklearn.manifold import TSNE\n",
    "import numpy as np\n",
    "import pandas as pd\n",
    "import matplotlib.pyplot as plt\n",
    "from pylab import rcParams\n",
    "\n",
    "import os\n",
    "import random\n",
    "import math\n",
    "\n",
    "from models.multi_model.multi_model import MultiModel\n",
    "from evaluation.plotting import *\n",
    "from estimate.get_data import *\n",
    "from evaluation.sampling_test import *\n",
    "\n",
    "from evaluation.lowd_test import fit_and_plot\n",
    "\n",
    "FIG_WIDTH = 6\n",
    "FIG_HEIGHT = 4\n",
    "DPI = 600\n",
    "\n",
    "\n",
    "exp = str(random.randint(1, 10**10))\n",
    "output_dir = \"../figures/evaluation/testing/\"\n",
    "# os.mkdir(output_dir)\n",
    "\n",
    "cols = [\"g_mag\", \"r_mag\", \"i_mag\", \"z_mag\", \"y_mag\",\n",
    "        \"W1_mag\", \"W2_mag\", \"H_mag\", \"K_mag\", 'J_mag',\n",
    "        'redshift']\n",
    "model = MultiModel(cols=cols,\n",
    "                   class_labels=['Unspecified Ia', 'Unspecified II'],\n",
    "                   transform_features=False,\n",
    "                   min_class_size=40\n",
    "                   )\n",
    "model.dir = output_dir\n",
    "\n",
    "thex_dataset = pd.concat([model.X, model.y], axis=1)\n",
    "\n",
    "Ia_sampled, Ia_rand_sample = get_THEx_sampled_data(class_name=\"Ia\",\n",
    "                                                   max_rmag=None,\n",
    "                                                   num_samples=200,\n",
    "                                                   thex_dataset=thex_dataset,\n",
    "                                                   output_dir=output_dir)\n",
    "II_sampled, II_rand_sample = get_THEx_sampled_data(class_name=\"II\",\n",
    "                                                   max_rmag=None,\n",
    "                                                   num_samples=200,\n",
    "                                                   thex_dataset=thex_dataset,\n",
    "                                                   output_dir=output_dir)\n",
    "lsst_sampled_X, lsst_sampled_y = get_source_target(\n",
    "    pd.concat([Ia_sampled, II_sampled]))\n",
    "\n",
    "orig_sampled_X, orig_sampled_y = get_source_target(\n",
    "    pd.concat([Ia_rand_sample, II_rand_sample]))\n",
    "\n",
    "print(\"Original size of training set \" + str(model.X.shape[0]))\n",
    "# Update training data to remove testing sets\n",
    "train_X, train_y = get_training_data(\n",
    "    lsst_sampled_X, orig_sampled_X, model.X, model.y)\n",
    "print(\"New size of training set \" + str(train_X.shape[0]))\n",
    "model.X = train_X[ordered_mags]\n",
    "model.y = train_y\n",
    "\n",
    "lsst_sampled_X = lsst_sampled_X[ordered_mags]\n",
    "orig_sampled_X = orig_sampled_X[ordered_mags]\n",
    "\n"
   ]
  },
  {
   "cell_type": "code",
   "execution_count": null,
   "metadata": {},
   "outputs": [],
   "source": [
    "orig_sampled_y.groupby('transient_type').size()"
   ]
  },
  {
   "cell_type": "code",
   "execution_count": null,
   "metadata": {},
   "outputs": [],
   "source": [
    "lsst_sampled_y.groupby('transient_type').size()"
   ]
  },
  {
   "cell_type": "code",
   "execution_count": null,
   "metadata": {},
   "outputs": [],
   "source": []
  },
  {
   "cell_type": "code",
   "execution_count": null,
   "metadata": {},
   "outputs": [],
   "source": [
    "\n",
    "fit_and_plot(X=orig_sampled_X,\n",
    "             y=orig_sampled_y,\n",
    "             data_type=\"Original\",\n",
    "             output_dir=output_dir,\n",
    "             perplexity=15, # 5- 50, ~number of neighbors per pixel\n",
    "             early_exaggeration=2.0, #exaggerates early clusters\n",
    "             learning_rate=10, #[10.0, 1000.0]\n",
    "             n_iter=50000,\n",
    "             n_iter_without_progress=1000)"
   ]
  },
  {
   "cell_type": "code",
   "execution_count": null,
   "metadata": {},
   "outputs": [],
   "source": [
    "\n",
    "fit_and_plot(X=lsst_sampled_X,\n",
    "             y=lsst_sampled_y,\n",
    "             data_type=\"LSST\",\n",
    "             output_dir=output_dir,\n",
    "             perplexity=15, # 5- 50, ~number of neighbors per pixel\n",
    "             early_exaggeration=2.0, #exaggerates early clusters\n",
    "             learning_rate=10, #[10.0, 1000.0]\n",
    "             n_iter=50000,\n",
    "             n_iter_without_progress=1000)"
   ]
  },
  {
   "cell_type": "code",
   "execution_count": null,
   "metadata": {},
   "outputs": [],
   "source": [
    "\n",
    "fit_and_plot(X=lsst_sampled_X,\n",
    "             y=lsst_sampled_y,\n",
    "             data_type=\"LSST\",\n",
    "             output_dir=output_dir,\n",
    "             perplexity=10, # 5- 50, ~number of neighbors per pixel\n",
    "             early_exaggeration=5.0, #exaggerates early clusters\n",
    "             learning_rate=10, #[10.0, 1000.0]\n",
    "             n_iter=50000,\n",
    "             n_iter_without_progress=1000)"
   ]
  },
  {
   "cell_type": "markdown",
   "metadata": {},
   "source": [
    "Same as above but with NO early exaggeration at all.\n",
    "\n",
    "Roughly the same.\n",
    "\n",
    "In both cases Orig is just not good, with data dispersed in curve. But LSST always does ok. It's not great, but there is at least some cluster with red only, which is good and makes sense with the redshift test (where Ia did better than II at high redshifts)."
   ]
  },
  {
   "cell_type": "code",
   "execution_count": null,
   "metadata": {},
   "outputs": [],
   "source": [
    "\n",
    "fit_and_plot(X=orig_sampled_X,\n",
    "             y=orig_sampled_y,\n",
    "             data_type=\"Original\",\n",
    "             output_dir=output_dir,\n",
    "             perplexity=15, # 5- 50, ~number of neighbors per pixel\n",
    "             early_exaggeration=1.0, #exaggerates early clusters\n",
    "             learning_rate=10, #[10.0, 1000.0]\n",
    "             n_iter=50000,\n",
    "             n_iter_without_progress=1000)\n",
    "\n",
    "fit_and_plot(X=lsst_sampled_X,\n",
    "             y=lsst_sampled_y,\n",
    "             data_type=\"LSST\",\n",
    "             output_dir=output_dir,\n",
    "             perplexity=15, # 5- 50, ~number of neighbors per pixel\n",
    "             early_exaggeration=1.0, #exaggerates early clusters\n",
    "             learning_rate=10, #[10.0, 1000.0]\n",
    "             n_iter=50000,\n",
    "             n_iter_without_progress=1000)"
   ]
  },
  {
   "cell_type": "code",
   "execution_count": null,
   "metadata": {},
   "outputs": [],
   "source": []
  },
  {
   "cell_type": "code",
   "execution_count": null,
   "metadata": {},
   "outputs": [],
   "source": []
  }
 ],
 "metadata": {
  "kernelspec": {
   "display_name": "zmatchingkernel",
   "language": "python",
   "name": "zmatchingkernel"
  },
  "language_info": {
   "codemirror_mode": {
    "name": "ipython",
    "version": 3
   },
   "file_extension": ".py",
   "mimetype": "text/x-python",
   "name": "python",
   "nbconvert_exporter": "python",
   "pygments_lexer": "ipython3",
   "version": "3.7.5"
  }
 },
 "nbformat": 4,
 "nbformat_minor": 4
}
