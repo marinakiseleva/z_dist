{
 "cells": [
  {
   "cell_type": "code",
   "execution_count": 1,
   "metadata": {},
   "outputs": [],
   "source": [
    "import pickle\n",
    "import numpy as np\n",
    "import matplotlib.pyplot as plt\n",
    "\n",
    "DATA_DIR = '/Users/marina/Documents/PhD/research/astro_research/code/dist_code/data/'\n",
    "with open(DATA_DIR + 'lsst-sims.pk', 'rb') as f:\n",
    "    lc_prop = pickle.load(f)"
   ]
  },
  {
   "cell_type": "code",
   "execution_count": null,
   "metadata": {},
   "outputs": [],
   "source": [
    "    # keys are:\n",
    "    # obj_id:                         light curve id\n",
    "    # true_z, photo_z:                transient redshift and host photo-z\n",
    "\n",
    "    # These columns are calculated for each band (* = u, g, r, i, z, y)\n",
    "\n",
    "    # *_first_mjd:                    epoch of initial detection ('first epoch')\n",
    "    # *_first_snr:                    first-epoch SNR\n",
    "    # *_min_snr, *_max_snr:           minimal and maximal SNR of the light curve\n",
    "    # *_first_mag, *_first_mag_err:   first-epoch magnitude and error\n",
    "    # *_min_mag, *_min_mag_err:       faintest magnitude and error\n",
    "    # *_max_mag, *_max_mag_err:       peak or brighest magnitude and error\n",
    "    # *_first_flux, *_first_flux_err: first-epoch physical flux and error\n",
    "    # *_min_flux, *_min_flux_err:     minimal flux (matching faintest magnitude)\n",
    "    # *_max_flux, *_max_flux_err:     maximal flux (matching peak magnitude)"
   ]
  },
  {
   "cell_type": "code",
   "execution_count": 5,
   "metadata": {},
   "outputs": [],
   "source": [
    "%matplotlib inline"
   ]
  },
  {
   "cell_type": "code",
   "execution_count": 2,
   "metadata": {},
   "outputs": [
    {
     "name": "stderr",
     "output_type": "stream",
     "text": [
      "/usr/local/lib/python3.7/site-packages/ipykernel_launcher.py:3: RuntimeWarning: invalid value encountered in less\n",
      "  This is separate from the ipykernel package so we can avoid doing imports until\n",
      "/usr/local/lib/python3.7/site-packages/ipykernel_launcher.py:4: RuntimeWarning: invalid value encountered in less\n",
      "  after removing the cwd from sys.path.\n",
      "/usr/local/lib/python3.7/site-packages/ipykernel_launcher.py:5: RuntimeWarning: invalid value encountered in less\n",
      "  \"\"\"\n",
      "/usr/local/lib/python3.7/site-packages/ipykernel_launcher.py:15: MatplotlibDeprecationWarning: \n",
      "The 'normed' kwarg was deprecated in Matplotlib 2.1 and will be removed in 3.1. Use 'density' instead.\n",
      "  from ipykernel import kernelapp as app\n",
      "/usr/local/lib/python3.7/site-packages/ipykernel_launcher.py:17: MatplotlibDeprecationWarning: \n",
      "The 'normed' kwarg was deprecated in Matplotlib 2.1 and will be removed in 3.1. Use 'density' instead.\n",
      "/usr/local/lib/python3.7/site-packages/ipykernel_launcher.py:19: MatplotlibDeprecationWarning: \n",
      "The 'normed' kwarg was deprecated in Matplotlib 2.1 and will be removed in 3.1. Use 'density' instead.\n"
     ]
    },
    {
     "data": {
      "image/png": "[encoded data removed]",
      "text/plain": [
       "<Figure size 432x288 with 1 Axes>"
      ]
     },
     "metadata": {
      "needs_background": "light"
     },
     "output_type": "display_data"
    }
   ],
   "source": [
    "lc_prop_Ia = lc_prop['Ia']\n",
    "\n",
    "rmag_24 = lc_prop_Ia['r_first_mag'] < 24.0\n",
    "rmag_22 = lc_prop_Ia['r_first_mag'] < 22.0\n",
    "rmag_20 = lc_prop_Ia['r_first_mag'] < 20.0\n",
    "\n",
    "zred_24 = lc_prop_Ia['true_z'][rmag_24]\n",
    "zred_22 = lc_prop_Ia['true_z'][rmag_22]\n",
    "zred_20 = lc_prop_Ia['true_z'][rmag_20]\n",
    "\n",
    "# plot distribution.\n",
    "fig = plt.figure()\n",
    "ax = fig.add_subplot(1, 1, 1)\n",
    "ax.hist(zred_24, range=(0., 1.), bins=64,\n",
    "        histtype='step', normed=True, label='r_init < 24')\n",
    "ax.hist(zred_22, range=(0., 1.), bins=64,\n",
    "        histtype='step', normed=True, label='r_init < 22')\n",
    "ax.hist(zred_20, range=(0., 1.), bins=64,\n",
    "        histtype='step', normed=True, label='r_init < 20')\n",
    "plt.title('First-epoch magnitude cut & SN Ia redshift distribution')\n",
    "plt.legend()\n",
    "plt.savefig('3.pdf')\n",
    "plt.show()\n"
   ]
  },
  {
   "cell_type": "code",
   "execution_count": 10,
   "metadata": {},
   "outputs": [],
   "source": [
    "# Overlay plot with redshift distribution of database \n",
    "def get_attributes(data_file, rowmask_file):\n",
    "    \"\"\"\n",
    "    Uses redshift and labels & returns redshifts, valid redshifts, and idxf\n",
    "    idxf is  map from each class name to  a list that is the same length as the number of samples in the dataset. for each one, it is True or False, based on whether that sample contains that label.\n",
    "    \"\"\"\n",
    "    data = np.load(DATA_DIR + data_file, allow_pickle=True)\n",
    "    rowmask = np.load(DATA_DIR + rowmask_file, allow_pickle=True)\n",
    "    z = data['redshift']\n",
    "    valid_z = np.isfinite(z)\n",
    "    idxf = {r: rowmask[r] == 1 for r in list(rowmask.dtype.names)}\n",
    "    return z, valid_z, idxf\n",
    "allmags_zred, allmags_valid_z, allmags_idxf = get_attributes(\n",
    "        data_file='allmags_data.npy',\n",
    "        rowmask_file='allmags_rowmask.npy')"
   ]
  },
  {
   "cell_type": "code",
   "execution_count": 71,
   "metadata": {},
   "outputs": [],
   "source": [
    "\n",
    "import pandas as pd\n",
    "\n",
    "def get_data(name):\n",
    "    \"\"\"\n",
    "    Pull down project data, one of two types:\n",
    "    all-features-dataset: 'all_features'\n",
    "    g_W2-dataset: 'g_W2'\n",
    "    \"\"\"\n",
    "    X = pd.read_csv(DATA_DIR + name + '_X.csv')\n",
    "    X.drop(['Unnamed: 0'], axis=1, inplace=True)\n",
    "    y = pd.read_csv(DATA_DIR + name + '_y.csv')\n",
    "    y.drop(['Unnamed: 0'], axis=1, inplace=True)\n",
    "    df = pd.concat([X, y], axis=1)\n",
    "    return df\n",
    "    \n"
   ]
  },
  {
   "cell_type": "code",
   "execution_count": 73,
   "metadata": {},
   "outputs": [],
   "source": [
    "\n",
    "# Get samples from this class with this feature range\n",
    "\n",
    "\n",
    "TARGET_LABEL = 'transient_type'\n",
    "def convert_str_to_list(input_string):\n",
    "    \"\"\"\n",
    "    Convert string to list\n",
    "    \"\"\"\n",
    "    l = input_string.split(\",\")\n",
    "    return [item.strip(' ') for item in l]\n",
    "\n",
    "\n",
    "## TODO: update this to return redshifts for this range!!!!!\n",
    "def filter_class_feature_range(class_name, feature_name, min_feature, max_feature, data):\n",
    "    \"\"\"\n",
    "    Get redshift values for data filtered on this range:\n",
    "    Filter data to those with class value and feature in range. \n",
    "    :param class_name: class name to filter on\n",
    "    :param feature_name: Name of feature to filter on\n",
    "    :param min_feature: Minimum feature value to keep\n",
    "    :param max_feature: Maximum feature value to keep\n",
    "    :param data: Pandas DataFrame from model \n",
    "    \"\"\"\n",
    "\n",
    "    keep_indices = []\n",
    "    min_feature = feature_range[0]\n",
    "    max_feature = feature_range[1]\n",
    "    for index, row in df.iterrows():\n",
    "        labels = convert_str_to_list(row[TARGET_LABEL])\n",
    "        in_range = row[feature_name] >= min_feature and row[feature_name] <= max_feature\n",
    "        if class_name in labels and in_range:\n",
    "            keep_indices.append(index)\n",
    "\n",
    "    filt_df = df.loc[keep_indices, :].reset_index(drop=True)\n",
    "    \n",
    "    return filt_df['redshift'].values\n",
    "\n"
   ]
  },
  {
   "cell_type": "code",
   "execution_count": 55,
   "metadata": {},
   "outputs": [],
   "source": [
    "def filter_lsst_data(class_name, feature_name, min_feature, max_feature, data):\n",
    "    \"\"\"\n",
    "    Get redshift values for data filtered on this range: label class_name\n",
    "    whose  feature values are in the range [min_feature,max_feature ] \n",
    "    :param data: loaded pickle of lsst-sims.pk\n",
    "    \"\"\"\n",
    "    class_data = data[class_name]\n",
    "    \n",
    "    feature_vals = class_data[feature_name]\n",
    "    indices = np.where((feature_vals>=min_feature) & (feature_vals<=max_feature))[0]\n",
    "    \n",
    "    class_data_Z = class_data['true_z']\n",
    "    class_data_filt = np.take(class_data_Z, indices)\n",
    "    \n",
    "    return class_data_filt\n",
    "    \n",
    "## TODO: update this to return redshifts for this range!!!!!   \n"
   ]
  },
  {
   "cell_type": "code",
   "execution_count": null,
   "metadata": {},
   "outputs": [],
   "source": [
    "df = get_data(name='all_features')"
   ]
  },
  {
   "cell_type": "code",
   "execution_count": 76,
   "metadata": {},
   "outputs": [
    {
     "data": {
      "text/plain": [
       "['W3_mag',\n",
       " 'y_mag',\n",
       " 'g_mag',\n",
       " 'z_mag',\n",
       " 'r_mag',\n",
       " 'u_mag',\n",
       " 'NUV_mag',\n",
       " 'W2_mag',\n",
       " 'FUV_mag',\n",
       " 'i_mag',\n",
       " 'H_mag',\n",
       " 'K_mag',\n",
       " 'W4_mag',\n",
       " 'W1_mag',\n",
       " 'J_mag',\n",
       " 'transient_type']"
      ]
     },
     "execution_count": 76,
     "metadata": {},
     "output_type": "execute_result"
    }
   ],
   "source": [
    "list(df)"
   ]
  },
  {
   "cell_type": "code",
   "execution_count": 74,
   "metadata": {},
   "outputs": [
    {
     "ename": "KeyError",
     "evalue": "'redshift'",
     "output_type": "error",
     "traceback": [
      "\u001b[0;31m---------------------------------------------------------------------------\u001b[0m",
      "\u001b[0;31mKeyError\u001b[0m                                  Traceback (most recent call last)",
      "\u001b[0;32m/usr/local/lib/python3.7/site-packages/pandas/core/indexes/base.py\u001b[0m in \u001b[0;36mget_loc\u001b[0;34m(self, key, method, tolerance)\u001b[0m\n\u001b[1;32m   2645\u001b[0m             \u001b[0;32mtry\u001b[0m\u001b[0;34m:\u001b[0m\u001b[0;34m\u001b[0m\u001b[0;34m\u001b[0m\u001b[0m\n\u001b[0;32m-> 2646\u001b[0;31m                 \u001b[0;32mreturn\u001b[0m \u001b[0mself\u001b[0m\u001b[0;34m.\u001b[0m\u001b[0m_engine\u001b[0m\u001b[0;34m.\u001b[0m\u001b[0mget_loc\u001b[0m\u001b[0;34m(\u001b[0m\u001b[0mkey\u001b[0m\u001b[0;34m)\u001b[0m\u001b[0;34m\u001b[0m\u001b[0;34m\u001b[0m\u001b[0m\n\u001b[0m\u001b[1;32m   2647\u001b[0m             \u001b[0;32mexcept\u001b[0m \u001b[0mKeyError\u001b[0m\u001b[0;34m:\u001b[0m\u001b[0;34m\u001b[0m\u001b[0;34m\u001b[0m\u001b[0m\n",
      "\u001b[0;32mpandas/_libs/index.pyx\u001b[0m in \u001b[0;36mpandas._libs.index.IndexEngine.get_loc\u001b[0;34m()\u001b[0m\n",
      "\u001b[0;32mpandas/_libs/index.pyx\u001b[0m in \u001b[0;36mpandas._libs.index.IndexEngine.get_loc\u001b[0;34m()\u001b[0m\n",
      "\u001b[0;32mpandas/_libs/hashtable_class_helper.pxi\u001b[0m in \u001b[0;36mpandas._libs.hashtable.PyObjectHashTable.get_item\u001b[0;34m()\u001b[0m\n",
      "\u001b[0;32mpandas/_libs/hashtable_class_helper.pxi\u001b[0m in \u001b[0;36mpandas._libs.hashtable.PyObjectHashTable.get_item\u001b[0;34m()\u001b[0m\n",
      "\u001b[0;31mKeyError\u001b[0m: 'redshift'",
      "\nDuring handling of the above exception, another exception occurred:\n",
      "\u001b[0;31mKeyError\u001b[0m                                  Traceback (most recent call last)",
      "\u001b[0;32m<ipython-input-74-2b8efd7cad1b>\u001b[0m in \u001b[0;36m<module>\u001b[0;34m\u001b[0m\n\u001b[1;32m      9\u001b[0m                                     \u001b[0mmin_feature\u001b[0m\u001b[0;34m=\u001b[0m\u001b[0mmin_range\u001b[0m\u001b[0;34m,\u001b[0m\u001b[0;34m\u001b[0m\u001b[0;34m\u001b[0m\u001b[0m\n\u001b[1;32m     10\u001b[0m                                     \u001b[0mmax_feature\u001b[0m\u001b[0;34m=\u001b[0m\u001b[0mmax_range\u001b[0m\u001b[0;34m,\u001b[0m\u001b[0;34m\u001b[0m\u001b[0;34m\u001b[0m\u001b[0m\n\u001b[0;32m---> 11\u001b[0;31m                                     data = df      )\n\u001b[0m\u001b[1;32m     12\u001b[0m \u001b[0;34m\u001b[0m\u001b[0m\n\u001b[1;32m     13\u001b[0m lsst_data_filt = filter_lsst_data(class_name=class_name, \n",
      "\u001b[0;32m<ipython-input-73-a32a68cea914>\u001b[0m in \u001b[0;36mfilter_class_feature_range\u001b[0;34m(class_name, feature_name, min_feature, max_feature, data)\u001b[0m\n\u001b[1;32m     34\u001b[0m     \u001b[0mfilt_df\u001b[0m \u001b[0;34m=\u001b[0m \u001b[0mdf\u001b[0m\u001b[0;34m.\u001b[0m\u001b[0mloc\u001b[0m\u001b[0;34m[\u001b[0m\u001b[0mkeep_indices\u001b[0m\u001b[0;34m,\u001b[0m \u001b[0;34m:\u001b[0m\u001b[0;34m]\u001b[0m\u001b[0;34m.\u001b[0m\u001b[0mreset_index\u001b[0m\u001b[0;34m(\u001b[0m\u001b[0mdrop\u001b[0m\u001b[0;34m=\u001b[0m\u001b[0;32mTrue\u001b[0m\u001b[0;34m)\u001b[0m\u001b[0;34m\u001b[0m\u001b[0;34m\u001b[0m\u001b[0m\n\u001b[1;32m     35\u001b[0m \u001b[0;34m\u001b[0m\u001b[0m\n\u001b[0;32m---> 36\u001b[0;31m     \u001b[0;32mreturn\u001b[0m \u001b[0mfilt_df\u001b[0m\u001b[0;34m[\u001b[0m\u001b[0;34m'redshift'\u001b[0m\u001b[0;34m]\u001b[0m\u001b[0;34m.\u001b[0m\u001b[0mvalues\u001b[0m\u001b[0;34m\u001b[0m\u001b[0;34m\u001b[0m\u001b[0m\n\u001b[0m\u001b[1;32m     37\u001b[0m \u001b[0;34m\u001b[0m\u001b[0m\n",
      "\u001b[0;32m/usr/local/lib/python3.7/site-packages/pandas/core/frame.py\u001b[0m in \u001b[0;36m__getitem__\u001b[0;34m(self, key)\u001b[0m\n\u001b[1;32m   2798\u001b[0m             \u001b[0;32mif\u001b[0m \u001b[0mself\u001b[0m\u001b[0;34m.\u001b[0m\u001b[0mcolumns\u001b[0m\u001b[0;34m.\u001b[0m\u001b[0mnlevels\u001b[0m \u001b[0;34m>\u001b[0m \u001b[0;36m1\u001b[0m\u001b[0;34m:\u001b[0m\u001b[0;34m\u001b[0m\u001b[0;34m\u001b[0m\u001b[0m\n\u001b[1;32m   2799\u001b[0m                 \u001b[0;32mreturn\u001b[0m \u001b[0mself\u001b[0m\u001b[0;34m.\u001b[0m\u001b[0m_getitem_multilevel\u001b[0m\u001b[0;34m(\u001b[0m\u001b[0mkey\u001b[0m\u001b[0;34m)\u001b[0m\u001b[0;34m\u001b[0m\u001b[0;34m\u001b[0m\u001b[0m\n\u001b[0;32m-> 2800\u001b[0;31m             \u001b[0mindexer\u001b[0m \u001b[0;34m=\u001b[0m \u001b[0mself\u001b[0m\u001b[0;34m.\u001b[0m\u001b[0mcolumns\u001b[0m\u001b[0;34m.\u001b[0m\u001b[0mget_loc\u001b[0m\u001b[0;34m(\u001b[0m\u001b[0mkey\u001b[0m\u001b[0;34m)\u001b[0m\u001b[0;34m\u001b[0m\u001b[0;34m\u001b[0m\u001b[0m\n\u001b[0m\u001b[1;32m   2801\u001b[0m             \u001b[0;32mif\u001b[0m \u001b[0mis_integer\u001b[0m\u001b[0;34m(\u001b[0m\u001b[0mindexer\u001b[0m\u001b[0;34m)\u001b[0m\u001b[0;34m:\u001b[0m\u001b[0;34m\u001b[0m\u001b[0;34m\u001b[0m\u001b[0m\n\u001b[1;32m   2802\u001b[0m                 \u001b[0mindexer\u001b[0m \u001b[0;34m=\u001b[0m \u001b[0;34m[\u001b[0m\u001b[0mindexer\u001b[0m\u001b[0;34m]\u001b[0m\u001b[0;34m\u001b[0m\u001b[0;34m\u001b[0m\u001b[0m\n",
      "\u001b[0;32m/usr/local/lib/python3.7/site-packages/pandas/core/indexes/base.py\u001b[0m in \u001b[0;36mget_loc\u001b[0;34m(self, key, method, tolerance)\u001b[0m\n\u001b[1;32m   2646\u001b[0m                 \u001b[0;32mreturn\u001b[0m \u001b[0mself\u001b[0m\u001b[0;34m.\u001b[0m\u001b[0m_engine\u001b[0m\u001b[0;34m.\u001b[0m\u001b[0mget_loc\u001b[0m\u001b[0;34m(\u001b[0m\u001b[0mkey\u001b[0m\u001b[0;34m)\u001b[0m\u001b[0;34m\u001b[0m\u001b[0;34m\u001b[0m\u001b[0m\n\u001b[1;32m   2647\u001b[0m             \u001b[0;32mexcept\u001b[0m \u001b[0mKeyError\u001b[0m\u001b[0;34m:\u001b[0m\u001b[0;34m\u001b[0m\u001b[0;34m\u001b[0m\u001b[0m\n\u001b[0;32m-> 2648\u001b[0;31m                 \u001b[0;32mreturn\u001b[0m \u001b[0mself\u001b[0m\u001b[0;34m.\u001b[0m\u001b[0m_engine\u001b[0m\u001b[0;34m.\u001b[0m\u001b[0mget_loc\u001b[0m\u001b[0;34m(\u001b[0m\u001b[0mself\u001b[0m\u001b[0;34m.\u001b[0m\u001b[0m_maybe_cast_indexer\u001b[0m\u001b[0;34m(\u001b[0m\u001b[0mkey\u001b[0m\u001b[0;34m)\u001b[0m\u001b[0;34m)\u001b[0m\u001b[0;34m\u001b[0m\u001b[0;34m\u001b[0m\u001b[0m\n\u001b[0m\u001b[1;32m   2649\u001b[0m         \u001b[0mindexer\u001b[0m \u001b[0;34m=\u001b[0m \u001b[0mself\u001b[0m\u001b[0;34m.\u001b[0m\u001b[0mget_indexer\u001b[0m\u001b[0;34m(\u001b[0m\u001b[0;34m[\u001b[0m\u001b[0mkey\u001b[0m\u001b[0;34m]\u001b[0m\u001b[0;34m,\u001b[0m \u001b[0mmethod\u001b[0m\u001b[0;34m=\u001b[0m\u001b[0mmethod\u001b[0m\u001b[0;34m,\u001b[0m \u001b[0mtolerance\u001b[0m\u001b[0;34m=\u001b[0m\u001b[0mtolerance\u001b[0m\u001b[0;34m)\u001b[0m\u001b[0;34m\u001b[0m\u001b[0;34m\u001b[0m\u001b[0m\n\u001b[1;32m   2650\u001b[0m         \u001b[0;32mif\u001b[0m \u001b[0mindexer\u001b[0m\u001b[0;34m.\u001b[0m\u001b[0mndim\u001b[0m \u001b[0;34m>\u001b[0m \u001b[0;36m1\u001b[0m \u001b[0;32mor\u001b[0m \u001b[0mindexer\u001b[0m\u001b[0;34m.\u001b[0m\u001b[0msize\u001b[0m \u001b[0;34m>\u001b[0m \u001b[0;36m1\u001b[0m\u001b[0;34m:\u001b[0m\u001b[0;34m\u001b[0m\u001b[0;34m\u001b[0m\u001b[0m\n",
      "\u001b[0;32mpandas/_libs/index.pyx\u001b[0m in \u001b[0;36mpandas._libs.index.IndexEngine.get_loc\u001b[0;34m()\u001b[0m\n",
      "\u001b[0;32mpandas/_libs/index.pyx\u001b[0m in \u001b[0;36mpandas._libs.index.IndexEngine.get_loc\u001b[0;34m()\u001b[0m\n",
      "\u001b[0;32mpandas/_libs/hashtable_class_helper.pxi\u001b[0m in \u001b[0;36mpandas._libs.hashtable.PyObjectHashTable.get_item\u001b[0;34m()\u001b[0m\n",
      "\u001b[0;32mpandas/_libs/hashtable_class_helper.pxi\u001b[0m in \u001b[0;36mpandas._libs.hashtable.PyObjectHashTable.get_item\u001b[0;34m()\u001b[0m\n",
      "\u001b[0;31mKeyError\u001b[0m: 'redshift'"
     ]
    }
   ],
   "source": [
    "\n",
    "## TODO: update this to return redshifts for this range!!!!!\n",
    "# need to compare redshifts\n",
    "min_range = 22\n",
    "max_range = 24\n",
    "class_name =  \"Ia\"\n",
    "\n",
    "thex_data_filt = filter_class_feature_range(class_name=class_name,\n",
    "                                    feature_name = 'r_mag',\n",
    "                                    min_feature=min_range, \n",
    "                                    max_feature=max_range,\n",
    "                                    data = df      )\n",
    "\n",
    "lsst_data_filt = filter_lsst_data(class_name=class_name, \n",
    "                 feature_name='r_first_mag', \n",
    "                 min_feature=min_range, \n",
    "                 max_feature=max_range, \n",
    "                 data=lc_prop)"
   ]
  },
  {
   "cell_type": "code",
   "execution_count": null,
   "metadata": {},
   "outputs": [],
   "source": []
  },
  {
   "cell_type": "code",
   "execution_count": 68,
   "metadata": {},
   "outputs": [
    {
     "name": "stderr",
     "output_type": "stream",
     "text": [
      "/usr/local/lib/python3.7/site-packages/ipykernel_launcher.py:8: MatplotlibDeprecationWarning: \n",
      "The 'normed' kwarg was deprecated in Matplotlib 2.1 and will be removed in 3.1. Use 'density' instead.\n",
      "  \n",
      "/usr/local/lib/python3.7/site-packages/numpy/lib/histograms.py:908: RuntimeWarning: invalid value encountered in true_divide\n",
      "  return n/db/n.sum(), bin_edges\n",
      "/usr/local/lib/python3.7/site-packages/ipykernel_launcher.py:14: MatplotlibDeprecationWarning: \n",
      "The 'normed' kwarg was deprecated in Matplotlib 2.1 and will be removed in 3.1. Use 'density' instead.\n",
      "  \n"
     ]
    },
    {
     "data": {
      "image/png": "[encoded data removed]",
      "text/plain": [
       "<Figure size 432x288 with 1 Axes>"
      ]
     },
     "metadata": {
      "needs_background": "light"
     },
     "output_type": "display_data"
    }
   ],
   "source": [
    "fig = plt.figure()\n",
    "ax = fig.add_subplot(1, 1, 1)\n",
    "ax.hist(thex_data_filt, \n",
    "        range=(0., 1.), \n",
    "        bins=64,\n",
    "        histtype='step', \n",
    "        normed=True, \n",
    "        label='THEx')\n",
    "ax.hist(lsst_data_filt, \n",
    "        range=(0., 1.), \n",
    "        bins=64,\n",
    "        histtype='step', \n",
    "        normed=True, \n",
    "        label='LSST')\n",
    "plt.legend()\n",
    "plt.show()"
   ]
  },
  {
   "cell_type": "code",
   "execution_count": null,
   "metadata": {},
   "outputs": [],
   "source": [
    "\n",
    "# # -------------------------------------------------------------------------\n",
    "# # Example: For SNe Ia, first-epoch magnitude vs. redshift.\n",
    "# fig = plt.figure()\n",
    "# ax = fig.add_subplot(1, 1, 1)\n",
    "# ax.hist2d(lc_prop['Ia']['r_first_mag'], lc_prop['Ia']['true_z'],\n",
    "#           range=((18., 26.5), (0., 1.25)), bins=64, cmap='Blues')\n",
    "# plt.title('First-epoch r-band magnitude vs. redshift (SNe Ia)')\n",
    "# plt.xlabel('r_first'), plt.ylabel('redshift')\n",
    "# plt.savefig('4.pdf')\n",
    "# plt.show()"
   ]
  },
  {
   "cell_type": "code",
   "execution_count": null,
   "metadata": {},
   "outputs": [],
   "source": []
  }
 ],
 "metadata": {
  "kernelspec": {
   "display_name": "Python 3",
   "language": "python",
   "name": "python3"
  },
  "language_info": {
   "codemirror_mode": {
    "name": "ipython",
    "version": 3
   },
   "file_extension": ".py",
   "mimetype": "text/x-python",
   "name": "python",
   "nbconvert_exporter": "python",
   "pygments_lexer": "ipython3",
   "version": "3.7.5"
  }
 },
 "nbformat": 4,
 "nbformat_minor": 4
}
