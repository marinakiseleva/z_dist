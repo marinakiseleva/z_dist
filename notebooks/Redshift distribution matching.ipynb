{
 "cells": [
  {
   "cell_type": "code",
   "execution_count": null,
   "metadata": {},
   "outputs": [],
   "source": [
    "from  estimate.estimate_dists import *\n",
    "\n",
    "import pickle\n",
    "import numpy as np\n",
    "import matplotlib.pyplot as plt\n",
    "import pandas as pd\n",
    "%matplotlib inline"
   ]
  },
  {
   "cell_type": "code",
   "execution_count": null,
   "metadata": {},
   "outputs": [],
   "source": [
    "\n",
    "with open(DATA_DIR + 'lsst-sims.pk', 'rb') as f:\n",
    "        lc_prop = pickle.load(f)\n",
    "\n",
    "df_all_features = get_data(name='all_features')\n",
    "\n",
    "df_g_W2 = get_data(name='g_W2')\n",
    "\n",
    "# Only features to choose from are g, r, i, z, y\n",
    "thex_class_name = \"Ia\"\n",
    "lsst_class_name =\"Ia\"\n",
    "feature = \"r\"\n",
    "\n",
    "feature_name = feature + '_mag'\n",
    "lsst_feature_name = feature + '_first_mag'\n",
    "num_samples = 4\n",
    "min_vals = np.linspace(8, 14, num_samples)\n",
    "max_vals = np.linspace(20, 24, num_samples)\n",
    "\n",
    "lsst_class_data = lc_prop[lsst_class_name]\n",
    "\n",
    "best_min_AF, best_max_AF = get_best_KS_range(lsst_class_data,\n",
    "                                                 df_all_features,\n",
    "                                                 thex_class_name,\n",
    "                                                 feature_name,\n",
    "                                                 lsst_feature_name,\n",
    "                                                 min_vals,\n",
    "                                                 max_vals)"
   ]
  },
  {
   "cell_type": "code",
   "execution_count": null,
   "metadata": {},
   "outputs": [],
   "source": []
  },
  {
   "cell_type": "code",
   "execution_count": null,
   "metadata": {},
   "outputs": [],
   "source": []
  }
 ],
 "metadata": {
  "kernelspec": {
   "display_name": "Python 3",
   "language": "python",
   "name": "python3"
  },
  "language_info": {
   "codemirror_mode": {
    "name": "ipython",
    "version": 3
   },
   "file_extension": ".py",
   "mimetype": "text/x-python",
   "name": "python",
   "nbconvert_exporter": "python",
   "pygments_lexer": "ipython3",
   "version": "3.7.5"
  }
 },
 "nbformat": 4,
 "nbformat_minor": 4
}
