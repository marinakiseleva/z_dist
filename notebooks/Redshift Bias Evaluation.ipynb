{
 "cells": [
  {
   "cell_type": "markdown",
   "metadata": {},
   "source": [
    "## Comparative test\n",
    "Sample THEx data so that it is consistent with the filtered PLASTICCS data, and create another test set of data with the same number of samples in each class (Ia and II) but randomly sampled from our dataset. We train the KDE multiclass classifier using the same training set, and test on these two different test sets. We aggregate results over a certain number of runs and compare the resulting metrics to see if differently distributed data alters the performance of the model."
   ]
  },
  {
   "cell_type": "code",
   "execution_count": null,
   "metadata": {
    "scrolled": false
   },
   "outputs": [],
   "source": [
    "from evaluation.sampling_test import *\n"
   ]
  },
  {
   "cell_type": "code",
   "execution_count": null,
   "metadata": {
    "scrolled": false
   },
   "outputs": [],
   "source": [
    "main()"
   ]
  },
  {
   "cell_type": "code",
   "execution_count": null,
   "metadata": {},
   "outputs": [],
   "source": []
  },
  {
   "cell_type": "code",
   "execution_count": null,
   "metadata": {},
   "outputs": [],
   "source": []
  },
  {
   "cell_type": "code",
   "execution_count": null,
   "metadata": {},
   "outputs": [],
   "source": []
  },
  {
   "cell_type": "code",
   "execution_count": null,
   "metadata": {},
   "outputs": [],
   "source": []
  },
  {
   "cell_type": "code",
   "execution_count": null,
   "metadata": {},
   "outputs": [],
   "source": []
  },
  {
   "cell_type": "markdown",
   "metadata": {},
   "source": [
    "### 'breaking it'\n",
    "\n",
    "Following is code to 'break it', by training on low r mag and testing on high r mag"
   ]
  },
  {
   "cell_type": "code",
   "execution_count": null,
   "metadata": {},
   "outputs": [],
   "source": []
  },
  {
   "cell_type": "code",
   "execution_count": null,
   "metadata": {
    "scrolled": false
   },
   "outputs": [],
   "source": [
    "import os\n",
    "import random\n",
    "import math\n",
    "import numpy as np\n",
    "import pandas as pd\n",
    "import matplotlib.pyplot as plt\n",
    "\n",
    "\n",
    "from models.multi_model.multi_model import MultiModel\n",
    "from evaluation.plotting import *\n",
    "from estimate.get_data import *\n",
    "\n",
    "\n",
    "from evaluation.sampling_test import *\n",
    "\n",
    "ordered_mags = [\"g_mag\", \"r_mag\", \"i_mag\", \"z_mag\", \"y_mag\",\n",
    "                \"W1_mag\", \"W2_mag\", \"H_mag\", \"K_mag\", 'J_mag']\n",
    "\n",
    "exp = str(random.randint(1, 10**10))\n",
    "output_dir = \"../figures/evaluation/\" + exp\n",
    "os.mkdir(output_dir)\n",
    "\n",
    "cols = [\"g_mag\", \"r_mag\", \"i_mag\", \"z_mag\", \"y_mag\",\n",
    "        \"W1_mag\", \"W2_mag\", \"H_mag\", \"K_mag\", 'J_mag',\n",
    "        'redshift']\n",
    "model = MultiModel(cols=cols,\n",
    "                   class_labels=['Unspecified Ia', 'Unspecified II'],\n",
    "                   transform_features=False,\n",
    "                   min_class_size=40\n",
    "                   ) \n",
    "# thex_dataset = pd.concat([model.X, model.y], axis=1)\n",
    "\n",
    "\n",
    "# Sample from set for training data\n",
    "# X_test = model.X.sample(frac=0.2)\n",
    "# y_test = model.y.iloc[X_test.index].reset_index(drop=True)\n",
    "# X_test.reset_index(drop=True, inplace=True)\n",
    "\n",
    "# new_X_train, new_y_train = remove_data(X_test, model.X, model.y)\n",
    "\n",
    "rcutoff = 19\n",
    "new_X_train = model.X.loc[model.X['r_mag'] < rcutoff]\n",
    "new_y_train = model.y.iloc[new_X_train.index].reset_index(drop=True)\n",
    "new_X_train.reset_index(drop=True, inplace=True)\n",
    "\n",
    "X_test = model.X.loc[model.X['r_mag'] >= rcutoff]\n",
    "y_test = model.y.iloc[X_test.index].reset_index(drop=True)\n",
    "X_test.reset_index(drop=True, inplace=True)\n",
    "\n",
    "# Train on low r mags\n",
    "model.train_model(new_X_train[ordered_mags], new_y_train)\n",
    "\n",
    "# Test on high r mags\n",
    "results = []\n",
    "probabilities = model.get_all_class_probabilities(X_test[ordered_mags], model.normalize)\n",
    "# Add labels as column to probabilities, for later evaluation\n",
    "label_column = y_test['transient_type'].values.reshape(-1, 1)\n",
    "probabilities = np.hstack((probabilities, label_column))\n",
    "results.append(probabilities)\n",
    "\n",
    " \n",
    "ii_train = get_thex_class_data(\"Unspecified II\", pd.concat([new_X_train, new_y_train], axis=1))\n",
    "\n",
    "ii_test = get_thex_class_data(\"Unspecified II\", pd.concat([X_test, y_test], axis=1))\n",
    "\n",
    "plot_compare_feature_dists('r_mag', \"Unspecified II\", rand_sample=ii_train, sampled=ii_test)\n",
    "\n",
    "\n",
    "ia_train = get_thex_class_data(\"Unspecified Ia\", pd.concat([new_X_train, new_y_train], axis=1))\n",
    "\n",
    "ia_test = get_thex_class_data(\"Unspecified Ia\", pd.concat([X_test, y_test], axis=1))\n",
    "\n",
    "plot_compare_feature_dists('r_mag', \"Unspecified Ia\", rand_sample=ia_train, sampled=ia_test)\n",
    "\n",
    "plot_performance(model=model,\n",
    "                 testdata_y=y_test, \n",
    "                 output_dir=output_dir + '/rtest', \n",
    "                 results=results)"
   ]
  },
  {
   "cell_type": "code",
   "execution_count": null,
   "metadata": {},
   "outputs": [],
   "source": []
  },
  {
   "cell_type": "code",
   "execution_count": null,
   "metadata": {},
   "outputs": [],
   "source": []
  },
  {
   "cell_type": "code",
   "execution_count": null,
   "metadata": {},
   "outputs": [],
   "source": []
  },
  {
   "cell_type": "code",
   "execution_count": null,
   "metadata": {},
   "outputs": [],
   "source": []
  }
 ],
 "metadata": {
  "kernelspec": {
   "display_name": "zmatchingkernel",
   "language": "python",
   "name": "zmatchingkernel"
  },
  "language_info": {
   "codemirror_mode": {
    "name": "ipython",
    "version": 3
   },
   "file_extension": ".py",
   "mimetype": "text/x-python",
   "name": "python",
   "nbconvert_exporter": "python",
   "pygments_lexer": "ipython3",
   "version": "3.7.5"
  }
 },
 "nbformat": 4,
 "nbformat_minor": 4
}
