{
 "cells": [
  {
   "cell_type": "markdown",
   "metadata": {},
   "source": [
    "## Comparative test\n",
    "Sample THEx data so that it is consistent with the filtered PLASTICCS data, and create another test set of data with the same number of samples in each class (Ia and II) but randomly sampled from our dataset. We train the KDE multiclass classifier using the same training set, and test on these two different test sets. We aggregate results over a certain number of runs and compare the resulting metrics to see if differently distributed data alters the performance of the model."
   ]
  },
  {
   "cell_type": "code",
   "execution_count": null,
   "metadata": {
    "scrolled": false
   },
   "outputs": [],
   "source": [
    "from evaluation.sampling_test import *\n"
   ]
  },
  {
   "cell_type": "code",
   "execution_count": null,
   "metadata": {
    "scrolled": false
   },
   "outputs": [],
   "source": [
    "main()"
   ]
  },
  {
   "cell_type": "markdown",
   "metadata": {},
   "source": [
    "Following is code to 'break it', by training on low r mag and testing on high r mag"
   ]
  },
  {
   "cell_type": "code",
   "execution_count": null,
   "metadata": {},
   "outputs": [],
   "source": [
    "# Sample from set for training data\n",
    "X_train = model.X.sample(frac=0.8)\n",
    "y_train = model.y.iloc[X_train.index].reset_index(drop=True)\n",
    "X_train.reset_index(drop=True, inplace=True)\n",
    "\n",
    "new_X_train = X_train.loc[X_train['r_mag'] <19]\n",
    "new_y_train = y_train.iloc[new_X_train.index].reset_index(drop=True)\n",
    "new_X_train.reset_index(drop=True, inplace=True)\n",
    "\n",
    "new_X_test = X_train.loc[X_train['r_mag'] >=19]\n",
    "new_y_test = y_train.iloc[new_X_test.index].reset_index(drop=True)\n",
    "new_X_test.reset_index(drop=True, inplace=True)\n",
    "\n",
    "# Train on low r mags\n",
    "model.train_model(new_X_train, new_y_train)\n",
    "\n",
    "# Test on high r mags\n",
    "results = []\n",
    "probabilities = model.get_all_class_probabilities(new_X_test, model.normalize)\n",
    "# Add labels as column to probabilities, for later evaluation\n",
    "label_column = new_y_test['transient_type'].values.reshape(-1, 1)\n",
    "probabilities = np.hstack((probabilities, label_column))\n",
    "results.append(probabilities)\n",
    "\n",
    "model.results = results\n",
    "model.visualize_performance()"
   ]
  },
  {
   "cell_type": "code",
   "execution_count": null,
   "metadata": {},
   "outputs": [],
   "source": []
  },
  {
   "cell_type": "code",
   "execution_count": null,
   "metadata": {},
   "outputs": [],
   "source": []
  },
  {
   "cell_type": "code",
   "execution_count": null,
   "metadata": {
    "scrolled": false
   },
   "outputs": [],
   "source": [
    "\n"
   ]
  },
  {
   "cell_type": "code",
   "execution_count": null,
   "metadata": {},
   "outputs": [],
   "source": []
  },
  {
   "cell_type": "code",
   "execution_count": null,
   "metadata": {},
   "outputs": [],
   "source": []
  },
  {
   "cell_type": "code",
   "execution_count": null,
   "metadata": {},
   "outputs": [],
   "source": []
  },
  {
   "cell_type": "code",
   "execution_count": null,
   "metadata": {},
   "outputs": [],
   "source": []
  }
 ],
 "metadata": {
  "kernelspec": {
   "display_name": "zmatchingkernel",
   "language": "python",
   "name": "zmatchingkernel"
  },
  "language_info": {
   "codemirror_mode": {
    "name": "ipython",
    "version": 3
   },
   "file_extension": ".py",
   "mimetype": "text/x-python",
   "name": "python",
   "nbconvert_exporter": "python",
   "pygments_lexer": "ipython3",
   "version": "3.7.5"
  }
 },
 "nbformat": 4,
 "nbformat_minor": 4
}
