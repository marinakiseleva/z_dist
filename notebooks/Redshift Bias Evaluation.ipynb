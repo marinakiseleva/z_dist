{
 "cells": [
  {
   "cell_type": "markdown",
   "metadata": {},
   "source": [
    "## Comparative run\n",
    "Sample THEx data so that it is consistent with the filtered PLASTICCS data. THEN run the model on this data and see if there is a difference between this and the original model with the original data."
   ]
  },
  {
   "cell_type": "markdown",
   "metadata": {},
   "source": [
    "## 1. Pull down THEx filtered data"
   ]
  },
  {
   "cell_type": "code",
   "execution_count": 1,
   "metadata": {},
   "outputs": [],
   "source": [
    "from evaluation.sampling_test import *"
   ]
  },
  {
   "cell_type": "code",
   "execution_count": null,
   "metadata": {},
   "outputs": [],
   "source": [
    "Ia_sampled, Ia_rand_sample = get_THEx_sampled_data(class_name = \"Ia\", max_rmag = 23, \n",
    "                                        num_samples = 500)\n",
    "II_sampled, II_rand_sample = get_THEx_sampled_data(class_name = \"II\", max_rmag = 23,\n",
    "                                        num_samples = 500)\n"
   ]
  },
  {
   "cell_type": "code",
   "execution_count": 2,
   "metadata": {},
   "outputs": [
    {
     "name": "stdout",
     "output_type": "stream",
     "text": [
      "Class count : 129\n"
     ]
    },
    {
     "data": {
      "image/png": "[encoded data removed]",
      "text/plain": [
       "<Figure size 432x288 with 1 Axes>"
      ]
     },
     "metadata": {
      "needs_background": "light"
     },
     "output_type": "display_data"
    }
   ],
   "source": [
    "Ia_sampled, Ia_rand_sample = get_THEx_sampled_data(class_name = \"Ia\", \n",
    "                                        max_rmag = None, \n",
    "                                        num_samples = 200)\n"
   ]
  },
  {
   "cell_type": "code",
   "execution_count": 3,
   "metadata": {},
   "outputs": [
    {
     "name": "stdout",
     "output_type": "stream",
     "text": [
      "Class count : 151\n"
     ]
    },
    {
     "data": {
      "image/png": "[encoded data removed]",
      "text/plain": [
       "<Figure size 432x288 with 1 Axes>"
      ]
     },
     "metadata": {
      "needs_background": "light"
     },
     "output_type": "display_data"
    }
   ],
   "source": [
    "II_sampled, II_rand_sample = get_THEx_sampled_data(class_name = \"II\", \n",
    "                                        max_rmag = None, \n",
    "                                        num_samples = 200)"
   ]
  },
  {
   "cell_type": "code",
   "execution_count": null,
   "metadata": {},
   "outputs": [],
   "source": [
    "\n",
    "def plot_compare_feature_dists(feature_name, class_name, rand_sample, sampled):\n",
    "\n",
    "    fig, ax = plt.subplots(tight_layout=True, sharex=True,  sharey=True)\n",
    "\n",
    "    \n",
    "    if feature_name == 'redshift':\n",
    "        bins = np.linspace(0,1,20)\n",
    "        plt.xlim((0,1))\n",
    "    else:\n",
    "        # mag\n",
    "        bins = np.linspace(9,23,50)\n",
    "        plt.xlim((9,23))\n",
    "        \n",
    "    b = ax.hist(rand_sample[feature_name].values, bins=bins, density=True, \n",
    "                label=\"THEx (random sample)\", fill=False, edgecolor='green')\n",
    "    a = ax.hist(sampled[feature_name].values, bins=bins, density=True,  \n",
    "                label=\"THEx (LSST sample)\", fill=False, edgecolor='red')\n",
    "    \n",
    "    plt.legend()\n",
    "    plt.title(class_name)\n",
    "    plt.xlabel(feature_name)\n",
    "    plt.ylabel(\"Density\")\n",
    "    plt.savefig(\"../figures/evaluation/feature_dist_\" + feature_name + \"_\" + class_name)\n"
   ]
  },
  {
   "cell_type": "code",
   "execution_count": null,
   "metadata": {},
   "outputs": [],
   "source": [
    "f='r_mag'\n",
    "\n",
    "plot_compare_feature_dists(feature_name=f, \n",
    "                           class_name=\"Ia\", \n",
    "                           rand_sample=Ia_rand_sample, \n",
    "                           sampled=Ia_sampled)\n",
    "plot_compare_feature_dists(feature_name=f, \n",
    "                           class_name=\"II\", \n",
    "                           rand_sample=II_rand_sample, \n",
    "                           sampled=II_sampled)"
   ]
  },
  {
   "cell_type": "markdown",
   "metadata": {},
   "source": [
    "Save sampled THEx data "
   ]
  },
  {
   "cell_type": "code",
   "execution_count": null,
   "metadata": {},
   "outputs": [],
   "source": [
    "import pandas as pd\n",
    "\n",
    "# THEx data, sampled like LSST \n",
    "sampled_data = pd.concat([Ia_sampled, II_sampled])\n",
    "#Shuffle\n",
    "sampled_data = sampled_data.sample(frac=1).reset_index(drop=True)\n",
    "# Split\n",
    "y_sampled = sampled_data[['transient_type']] \n",
    "X_sampled = sampled_data.drop(labels=['transient_type'], axis =1 )\n",
    "\n",
    "\n",
    "# THEx data, randomly sampled\n",
    "combined_df = pd.concat([Ia_rand_sample, II_rand_sample])\n",
    "combined_df = combined_df.sample(frac=1).reset_index(drop=True)\n",
    "y_rand_sample = combined_df[['transient_type']]\n",
    "X_rand_sample = combined_df.drop(labels=['transient_type'], axis=1)\n"
   ]
  },
  {
   "cell_type": "markdown",
   "metadata": {},
   "source": [
    "## 2. Run Evaluation\n",
    "Run model on THEx data as-is - be sure to use the same NUMBER of class samples as above."
   ]
  },
  {
   "cell_type": "markdown",
   "metadata": {},
   "source": [
    "### A: Evaluate LSST-range-matched sampled data"
   ]
  },
  {
   "cell_type": "code",
   "execution_count": null,
   "metadata": {},
   "outputs": [],
   "source": [
    "from models.multi_model.multi_model import MultiModel\n",
    "%matplotlib inline\n",
    "\n",
    "\n",
    "ordered_mags = [\"g_mag\", \"r_mag\", \"i_mag\", \"z_mag\", \"y_mag\",\n",
    "        \"W1_mag\", \"W2_mag\", \"H_mag\", \"K_mag\", 'J_mag']\n",
    "#        \"redshift\"]\n",
    "model = MultiModel(cols = ordered_mags, \n",
    "           class_labels = ['Ia', 'II'],\n",
    "           transform_features = False,\n",
    "           min_class_size = 40,\n",
    "           folds=20\n",
    "          )\n",
    "\n",
    "valid_X, valid_y = remove_testing_data(model.X, model.y, X_sampled[list(model.X)]) \n",
    "\n",
    "model.X = valid_X\n",
    "model.y = valid_y\n",
    "\n",
    "get_test_results(model, X_sampled[list(model.X)], \n",
    "                 y_sampled)\n",
    "\n"
   ]
  },
  {
   "cell_type": "markdown",
   "metadata": {},
   "source": [
    "### B: Evaluate on original sampled data"
   ]
  },
  {
   "cell_type": "code",
   "execution_count": null,
   "metadata": {
    "scrolled": false
   },
   "outputs": [],
   "source": [
    "model = MultiModel(cols = ordered_mags, \n",
    "           class_labels = ['Ia', 'II'],\n",
    "           transform_features = False,\n",
    "           min_class_size = 40,\n",
    "           folds=20\n",
    "          )\n",
    "\n",
    "valid_X, valid_y = remove_testing_data(model.X, model.y, X_rand_sample[list(model.X)]) \n",
    "\n",
    "model.X = valid_X\n",
    "model.y = valid_y\n",
    "\n",
    "get_test_results(model, \n",
    "                 X_rand_sample[list(model.X)], \n",
    "                 y_rand_sample)\n",
    "\n"
   ]
  },
  {
   "cell_type": "code",
   "execution_count": null,
   "metadata": {},
   "outputs": [],
   "source": []
  },
  {
   "cell_type": "code",
   "execution_count": null,
   "metadata": {},
   "outputs": [],
   "source": []
  }
 ],
 "metadata": {
  "kernelspec": {
   "display_name": "zmatchingkernel",
   "language": "python",
   "name": "zmatchingkernel"
  },
  "language_info": {
   "codemirror_mode": {
    "name": "ipython",
    "version": 3
   },
   "file_extension": ".py",
   "mimetype": "text/x-python",
   "name": "python",
   "nbconvert_exporter": "python",
   "pygments_lexer": "ipython3",
   "version": "3.7.5"
  }
 },
 "nbformat": 4,
 "nbformat_minor": 4
}
