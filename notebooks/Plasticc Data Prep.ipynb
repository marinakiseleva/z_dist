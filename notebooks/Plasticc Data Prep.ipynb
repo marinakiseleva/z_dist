{
 "cells": [
  {
   "cell_type": "markdown",
   "id": "38fe0815",
   "metadata": {},
   "source": [
    "PLASTICC test data from release\n",
    "https://zenodo.org/record/2539456\n",
    "\n",
    "class_ids_names = { 90: 'Ia',\n",
    "                  42: 'II', \n",
    "                  62: 'Ibc', \n",
    "                  67: 'Ia-91bg', \n",
    "                  15: 'TDE'} \n",
    "\n",
    "object_id : Unique object identifier (integer32)\n",
    "\n",
    "ra : right ascension, degrees (float32)\n",
    "\n",
    "decl : declination, degrees (float32)\n",
    "\n",
    "ddf_bool : boolean flag: 1 for DDF, 0 for WFD\n",
    "\n",
    "hostgal_specz : accurate spec-redshift for small subset (float32)\n",
    "\n",
    "hostgal_photoz : photometric host-redshift (float32)\n",
    "\n",
    "hostgal_photoz_err : uncertainty on photometric host-redshift (float32)\n",
    "\n",
    "\n",
    "distmod : distance modulus computed with hostgal_photoz (float32)\n",
    "\n",
    "mwebv : Galactic E(B-V) extinction (float32)\n",
    "\n",
    "target : integer model class during challenge (0 for test set)\n",
    "\n",
    "true_target : integer model class for all objects (post-challenge)\n",
    "\n",
    "true_submodel : sub-model type for independently-developed models\n",
    "\n",
    "true_z : true redshift, cmb frame (float32)"
   ]
  },
  {
   "cell_type": "code",
   "execution_count": null,
   "id": "311e7d04",
   "metadata": {},
   "outputs": [],
   "source": [
    "class_ids_names = {'Ia': 90, 'II': 42, 'Ibc': 62, 'Ia-91bg': 67, 'TDE': 15}"
   ]
  },
  {
   "cell_type": "code",
   "execution_count": 2,
   "id": "47c5cbf9",
   "metadata": {},
   "outputs": [],
   "source": [
    "import pandas as pd\n",
    "from estimate.constants import *\n",
    "import pickle\n",
    "\n",
    "p_df = pd.read_csv(DATA_DIR + \"plasticc_test_metadata.csv\")\n",
    "\n",
    "keeps_ids = list(class_ids_names.keys())\n",
    "keep_p_df = p_df[p_df['true_target'].isin(keeps_ids)]\n",
    "\n",
    "with open(DATA_DIR+'LSST_data.pickle', 'wb') as handle:\n",
    "        pickle.dump(keep_p_df, handle, protocol=pickle.HIGHEST_PROTOCOL)\n"
   ]
  },
  {
   "cell_type": "code",
   "execution_count": 20,
   "id": "62014fdb",
   "metadata": {},
   "outputs": [
    {
     "name": "stdout",
     "output_type": "stream",
     "text": [
      "Each row has unique object ID.\n",
      "Total 3492890\n"
     ]
    }
   ],
   "source": [
    "unique_ids = p_df['object_id'].unique()\n",
    "p_df.shape[0] == len(unique_ids)\n",
    "print(\"Each row has unique object ID.\")\n",
    "print(\"Total \" + str(p_df.shape[0]))"
   ]
  }
 ],
 "metadata": {
  "kernelspec": {
   "display_name": "zdist_kernel",
   "language": "python",
   "name": "zdistkernel"
  },
  "language_info": {
   "codemirror_mode": {
    "name": "ipython",
    "version": 3
   },
   "file_extension": ".py",
   "mimetype": "text/x-python",
   "name": "python",
   "nbconvert_exporter": "python",
   "pygments_lexer": "ipython3",
   "version": "3.9.5"
  }
 },
 "nbformat": 4,
 "nbformat_minor": 5
}
